{
 "cells": [
  {
   "cell_type": "code",
   "execution_count": 92,
   "metadata": {
    "collapsed": false
   },
   "outputs": [
    {
     "data": {
      "text/plain": [
       "55.952380952380956"
      ]
     },
     "execution_count": 92,
     "metadata": {},
     "output_type": "execute_result"
    }
   ],
   "source": [
    "import numpy as np\n",
    "import pandas as pd\n",
    "import csv\n",
    "import io\n",
    "import requests\n",
    "from sklearn.neighbors import KNeighborsClassifier\n",
    "\n",
    "url = 'http://archive.ics.uci.edu/ml/machine-learning-databases/heart-disease/processed.cleveland.data'\n",
    "Attributes = ['age','sex','cp','trestbps','chol', 'fbs','restecg','thalach', 'exang','oldpeak','slope','ca','thal','num'] \n",
    "s=requests.get(url).content\n",
    "ccd=pd.read_csv(io.StringIO(s.decode('utf-8')),names=Attributes)\n",
    "mask = ccd['ca'].str.contains('\\?') | ccd['thal'].str.contains('\\?')\n",
    "ccd = ccd[mask == False]\n",
    "test_idx = np.random.uniform(0, 1, len(ccd)) <= .333\n",
    "train = ccd[test_idx == False]\n",
    "test = ccd[test_idx]\n",
    "features =  Attributes[:-1]\n",
    "\n",
    "n = 23  # Neighbors\n",
    "\n",
    "results = []\n",
    "\n",
    "clf = KNeighborsClassifier(n_neighbors = n)\n",
    "clf.fit(train[features], train['num'])\n",
    "preds = clf.predict(test[features])\n",
    "accuracy = np.where(preds == test['num'], 1, 0).sum() / float(len(test))*100\n",
    "\n",
    "accuracy"
   ]
  },
  {
   "cell_type": "code",
   "execution_count": null,
   "metadata": {
    "collapsed": true
   },
   "outputs": [],
   "source": []
  }
 ],
 "metadata": {
  "kernelspec": {
   "display_name": "Python [conda root]",
   "language": "python",
   "name": "conda-root-py"
  },
  "language_info": {
   "codemirror_mode": {
    "name": "ipython",
    "version": 3
   },
   "file_extension": ".py",
   "mimetype": "text/x-python",
   "name": "python",
   "nbconvert_exporter": "python",
   "pygments_lexer": "ipython3",
   "version": "3.5.2"
  }
 },
 "nbformat": 4,
 "nbformat_minor": 1
}
